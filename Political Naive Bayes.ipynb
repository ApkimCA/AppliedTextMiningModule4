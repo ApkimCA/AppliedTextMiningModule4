{
 "cells": [
  {
   "cell_type": "markdown",
   "metadata": {},
   "source": [
    "# Andrew Kim\n",
    "\n",
    "# ADS 509-01-SU23: Applied Text Mining\n",
    "\n",
    "# Assignment 4.1: Text Classification Model\n",
    "\n",
    "# 6/5/2023"
   ]
  },
  {
   "cell_type": "markdown",
   "metadata": {},
   "source": [
    "## Naive Bayes on Political Text\n",
    "\n",
    "In this notebook we use Naive Bayes to explore and classify political data. See the `README.md` for full details. You can download the required DB from the shared dropbox or from blackboard"
   ]
  },
  {
   "cell_type": "code",
   "execution_count": 1,
   "metadata": {},
   "outputs": [
    {
     "name": "stdout",
     "output_type": "stream",
     "text": [
      "Requirement already satisfied: tokenization in c:\\users\\andre\\anaconda3\\lib\\site-packages (1.0.7)\n",
      "Requirement already satisfied: regex in c:\\users\\andre\\anaconda3\\lib\\site-packages (from tokenization) (2021.4.4)\n"
     ]
    }
   ],
   "source": [
    "!pip install tokenization"
   ]
  },
  {
   "cell_type": "code",
   "execution_count": 2,
   "metadata": {},
   "outputs": [
    {
     "name": "stdout",
     "output_type": "stream",
     "text": [
      "Requirement already satisfied: functions in c:\\users\\andre\\anaconda3\\lib\\site-packages (0.7.0)\n"
     ]
    }
   ],
   "source": [
    "!pip install functions"
   ]
  },
  {
   "cell_type": "code",
   "execution_count": 3,
   "metadata": {},
   "outputs": [],
   "source": [
    "import sqlite3\n",
    "import nltk\n",
    "import random\n",
    "import numpy as np\n",
    "import collections\n",
    "from collections import Counter, defaultdict\n",
    "\n",
    "# Feel free to include your text patterns functions\n",
    "#from text_functions_solutions import clean_tokenize, get_patterns"
   ]
  },
  {
   "cell_type": "code",
   "execution_count": 4,
   "metadata": {},
   "outputs": [],
   "source": [
    "# Additional packages imported\n",
    "import pandas as pd\n",
    "import tokenize\n",
    "import re\n",
    "import string\n",
    "from string import punctuation\n",
    "import collections\n",
    "from collections import Counter, defaultdict\n",
    "from nltk.corpus import stopwords"
   ]
  },
  {
   "cell_type": "code",
   "execution_count": 5,
   "metadata": {},
   "outputs": [],
   "source": [
    "# Import 2020_Conventions.db\n",
    "convention_db = sqlite3.connect(\"2020_Conventions.db\")\n",
    "convention_cur = convention_db.cursor()"
   ]
  },
  {
   "cell_type": "markdown",
   "metadata": {},
   "source": [
    "### Part 1: Exploratory Naive Bayes\n",
    "\n",
    "We'll first build a NB model on the convention data itself, as a way to understand what words distinguish between the two parties. This is analogous to what we did in the \"Comparing Groups\" class work. First, pull in the text \n",
    "for each party and prepare it for use in Naive Bayes.  \n",
    "\n",
    "Note: A bit of reversal from last week's strategy. To deal with stopwords at the end of a sentence (e.g. He tossed it.), I removed punctuation except for apostrophes to save the contractions for stopword removal. This seemed to line up with the assertion a few chunks down. "
   ]
  },
  {
   "cell_type": "code",
   "execution_count": 6,
   "metadata": {},
   "outputs": [],
   "source": [
    "# First, modify 2020_Conventions.db to remove stopwords, punctuation, and return tokens\n",
    "sw = stopwords.words(\"english\")\n",
    "punctuation = set(punctuation)\n",
    "tw_punct = punctuation - {\"#\", \"'\"}\n",
    "\n",
    "def remove_stop(text, sw=sw) :\n",
    "    return([ch for ch in text if ch not in sw])\n",
    "\n",
    "def remove_punctuation(text, punct_set=tw_punct) : \n",
    "   text = [''.join(ch for ch in word if ch not in punct_set)\n",
    "           for word in text]\n",
    "   \n",
    "   return(text)\n",
    "\n",
    "def tokenize(text) : \n",
    "    \"\"\" Splitting on whitespace rather than the book's tokenize function. That \n",
    "        function will drop tokens like '#hashtag' or '2A', which we need for Twitter. \"\"\"\n",
    "    \n",
    "    text = text.strip().split()\n",
    "    return(text)"
   ]
  },
  {
   "cell_type": "code",
   "execution_count": 7,
   "metadata": {},
   "outputs": [],
   "source": [
    "convention_data = []\n",
    "\n",
    "# fill this list up with items that are themselves lists. \n",
    "# The first element in the sublist should be the cleaned and tokenized\n",
    "# text in a single string. \n",
    "# The second element should be the party. \n",
    "\n",
    "query_results = convention_cur.execute(\n",
    "                            '''\n",
    "                            SELECT text, party\n",
    "                            FROM conventions;\n",
    "                            ''')\n",
    "\n",
    "for row in query_results :\n",
    "\n",
    "    # Clean the text from the data set\n",
    "    text = row[0]\n",
    "    text_lc = text.lower()\n",
    "    text_tok = tokenize(text_lc)\n",
    "    text_punct = remove_punctuation(text_tok)\n",
    "    text_stop = remove_stop(text_punct)\n",
    "    text_clean = \" \".join(text_stop)\n",
    "    \n",
    "    # Store the results in convention_list\n",
    "    pparty = row[1]\n",
    "    plist = [text_clean, pparty]\n",
    "    \n",
    "    convention_data.append(plist)"
   ]
  },
  {
   "cell_type": "markdown",
   "metadata": {},
   "source": [
    "Let's look at some random entries and see if they look right. "
   ]
  },
  {
   "cell_type": "code",
   "execution_count": 8,
   "metadata": {},
   "outputs": [
    {
     "data": {
      "text/plain": [
       "[['beau hunter said “no mom mommy mommy died mom” along came ashley dr',\n",
       "  'Democratic'],\n",
       " ['connecticut', 'Republican'],\n",
       " ['could use little help right seems like get one step forward two steps back',\n",
       "  'Democratic'],\n",
       " ['young people watching don’t give america despite flaws problems we’ve come far still equal country opportunities previous generations could never imagined there’s lot heartbreak america truth many things broken pandemic saying goes world breaks everyone afterward many strong broken places that’s joe biden knows keep going unify lead he’s done family country come november we’re strong together we’ll heal together we’ll redeem soul',\n",
       "  'Democratic'],\n",
       " ['spent five years working report trump administration started remove mention humans cause climate change dr',\n",
       "  'Democratic'],\n",
       " ['herby declare', 'Republican'],\n",
       " ['you’re kind forgotten right president always bragging stock market sort leaves lot small manufacturing companies behind',\n",
       "  'Democratic'],\n",
       " ['radical left taken democratic party joe biden marching lock step biden far left promising crush middle class families trillions new taxes',\n",
       "  'Republican'],\n",
       " ['take powerful people elevator time get go important meetings head back lobby short time spent joe biden could tell really saw actually cared life meant something knew even went important meeting he’d take story that’s joe biden room heart',\n",
       "  'Democratic'],\n",
       " ['here’s sad truth every cop country knows violence chaos we’re seeing isn’t side effect isn’t unintended consequence it’s actually goal radical left doesn’t really want better policing don’t really care making justice system fairer want policing want justice system stops working altogether',\n",
       "  'Republican']]"
      ]
     },
     "execution_count": 8,
     "metadata": {},
     "output_type": "execute_result"
    }
   ],
   "source": [
    "random.choices(convention_data,k=10)"
   ]
  },
  {
   "cell_type": "markdown",
   "metadata": {},
   "source": [
    "If that looks good, we now need to make our function to turn these into features. In my solution, I wanted to keep the number of features reasonable, so I only used words that occur at least `word_cutoff` times. Here's the code to test that if you want it. "
   ]
  },
  {
   "cell_type": "code",
   "execution_count": 9,
   "metadata": {},
   "outputs": [
    {
     "name": "stdout",
     "output_type": "stream",
     "text": [
      "With a word cutoff of 5, we have 2391 as features in the model.\n"
     ]
    }
   ],
   "source": [
    "word_cutoff = 5\n",
    "\n",
    "tokens = [w for t, p in convention_data for w in t.split()]\n",
    "\n",
    "word_dist = nltk.FreqDist(tokens)\n",
    "\n",
    "feature_words = set()\n",
    "\n",
    "for word, count in word_dist.items() :\n",
    "    if count > word_cutoff :\n",
    "        feature_words.add(word)\n",
    "        \n",
    "print(f\"With a word cutoff of {word_cutoff}, we have {len(feature_words)} as features in the model.\")"
   ]
  },
  {
   "cell_type": "code",
   "execution_count": 10,
   "metadata": {},
   "outputs": [],
   "source": [
    "def conv_features(text,fw = feature_words) :\n",
    "    \"\"\"Given some text, this returns a dictionary holding the\n",
    "       feature words.\n",
    "       \n",
    "       Args: \n",
    "            * text: a piece of text in a continuous string. Assumes\n",
    "            text has been cleaned and case folded.\n",
    "            * fw: the *feature words* that we're considering. A word \n",
    "            in `text` must be in fw in order to be returned. This \n",
    "            prevents us from considering very rarely occurring words.\n",
    "        \n",
    "       Returns: \n",
    "            A dictionary with the words in `text` that appear in `fw`. \n",
    "            Words are only counted once. \n",
    "            If `text` were \"quick quick brown fox\" and `fw` = {'quick','fox','jumps'},\n",
    "            then this would return a dictionary of \n",
    "            {'quick' : True,\n",
    "             'fox' :    True}\n",
    "        \n",
    "    \"\"\"\n",
    "    \n",
    "    # Your code here\n",
    "    text_tok = text.split()\n",
    "    text_feat_words = [ch for ch in text_tok if ch in feature_words]\n",
    "    ret_dict = dict.fromkeys(text_feat_words, True)\n",
    "    \n",
    "    return(ret_dict)"
   ]
  },
  {
   "cell_type": "code",
   "execution_count": 11,
   "metadata": {},
   "outputs": [],
   "source": [
    "assert(len(feature_words)>0)\n",
    "assert(conv_features(\"donald is the president\",feature_words)==\n",
    "       {'donald':True,'president':True})\n",
    "assert(conv_features(\"people are american in america\",feature_words)==\n",
    "                     {'america':True,'american':True,\"people\":True})"
   ]
  },
  {
   "cell_type": "markdown",
   "metadata": {},
   "source": [
    "Now we'll build our feature set. Out of curiosity I did a train/test split to see how accurate the classifier was, but we don't strictly need to since this analysis is exploratory. "
   ]
  },
  {
   "cell_type": "code",
   "execution_count": 12,
   "metadata": {},
   "outputs": [],
   "source": [
    "featuresets = [(conv_features(text,feature_words), party) for (text, party) in convention_data]"
   ]
  },
  {
   "cell_type": "code",
   "execution_count": 13,
   "metadata": {},
   "outputs": [],
   "source": [
    "random.seed(20220507)\n",
    "random.shuffle(featuresets)\n",
    "\n",
    "test_size = 500"
   ]
  },
  {
   "cell_type": "code",
   "execution_count": 14,
   "metadata": {},
   "outputs": [
    {
     "name": "stdout",
     "output_type": "stream",
     "text": [
      "0.5\n"
     ]
    }
   ],
   "source": [
    "test_set, train_set = featuresets[:test_size], featuresets[test_size:]\n",
    "classifier = nltk.NaiveBayesClassifier.train(train_set)\n",
    "print(nltk.classify.accuracy(classifier, test_set))"
   ]
  },
  {
   "cell_type": "code",
   "execution_count": 15,
   "metadata": {},
   "outputs": [
    {
     "name": "stdout",
     "output_type": "stream",
     "text": [
      "Most Informative Features\n",
      "                   china = True           Republ : Democr =     25.8 : 1.0\n",
      "                   votes = True           Democr : Republ =     23.8 : 1.0\n",
      "             enforcement = True           Republ : Democr =     21.5 : 1.0\n",
      "                 destroy = True           Republ : Democr =     19.2 : 1.0\n",
      "                freedoms = True           Republ : Democr =     18.2 : 1.0\n",
      "                 climate = True           Democr : Republ =     17.8 : 1.0\n",
      "                supports = True           Republ : Democr =     17.1 : 1.0\n",
      "                   crime = True           Republ : Democr =     16.1 : 1.0\n",
      "                   media = True           Republ : Democr =     14.9 : 1.0\n",
      "                 beliefs = True           Republ : Democr =     13.0 : 1.0\n",
      "               countries = True           Republ : Democr =     13.0 : 1.0\n",
      "                 defense = True           Republ : Democr =     13.0 : 1.0\n",
      "                    isis = True           Republ : Democr =     13.0 : 1.0\n",
      "                 liberal = True           Republ : Democr =     13.0 : 1.0\n",
      "                religion = True           Republ : Democr =     13.0 : 1.0\n",
      "                   trade = True           Republ : Democr =     12.7 : 1.0\n",
      "                    flag = True           Republ : Democr =     12.1 : 1.0\n",
      "               greatness = True           Republ : Democr =     12.1 : 1.0\n",
      "                 abraham = True           Republ : Democr =     11.9 : 1.0\n",
      "                  defund = True           Republ : Democr =     11.9 : 1.0\n",
      "                    drug = True           Republ : Democr =     10.9 : 1.0\n",
      "              department = True           Republ : Democr =     10.9 : 1.0\n",
      "               destroyed = True           Republ : Democr =     10.9 : 1.0\n",
      "                   enemy = True           Republ : Democr =     10.9 : 1.0\n",
      "               amendment = True           Republ : Democr =     10.3 : 1.0\n"
     ]
    }
   ],
   "source": [
    "classifier.show_most_informative_features(25)"
   ]
  },
  {
   "cell_type": "markdown",
   "metadata": {},
   "source": [
    "Write a little prose here about what you see in the classifier. Anything odd or interesting?\n",
    "\n",
    "### My Observations\n",
    "\n",
    "Response: __Based off the classifier and from a general perspective, the list that contains the most informative features correlates to today's society and the current issues that impose potential threats or future uncertainties within everyday life. These are features that have been and continue to be evoked or mentioned between either or both parties.__\n",
    "\n",
    "__From an analytical perspective, I found it both interesting and odd that 92% of the most informative features leans more with the Republican Party, with the Democratic Party only receiving the terms \"votes\" and \"climate\" as their key importative features. While it would make sense that the term \"climate\" would be emphasized more from the Democratic Party, I found it odd that the term \"liberal\" leans more towards the Republican Party when I initially perceived \"liberal\" to be more emphasized from the Democratic Party. In general, I sense a huge disparity or imbalance within each feature being more directed towards the Republican Party than the Democratic Party. Therefore, the possibility of the data being imbalanced or even biased cannot be ruled out.__\n"
   ]
  },
  {
   "cell_type": "markdown",
   "metadata": {},
   "source": [
    "## Part 2: Classifying Congressional Tweets\n",
    "\n",
    "In this part we apply the classifer we just built to a set of tweets by people running for congress\n",
    "in 2018. These tweets are stored in the database `congressional_data.db`. That DB is funky, so I'll\n",
    "give you the query I used to pull out the tweets. Note that this DB has some big tables and \n",
    "is unindexed, so the query takes a minute or two to run on my machine."
   ]
  },
  {
   "cell_type": "code",
   "execution_count": 16,
   "metadata": {},
   "outputs": [],
   "source": [
    "cong_db = sqlite3.connect(\"congressional_data.db\")\n",
    "cong_cur = cong_db.cursor()"
   ]
  },
  {
   "cell_type": "code",
   "execution_count": 17,
   "metadata": {},
   "outputs": [],
   "source": [
    "results = cong_cur.execute(\n",
    "        '''\n",
    "           SELECT DISTINCT \n",
    "                  cd.candidate, \n",
    "                  cd.party,\n",
    "                  tw.tweet_text\n",
    "           FROM candidate_data cd \n",
    "           INNER JOIN tweets tw ON cd.twitter_handle = tw.handle \n",
    "               AND cd.candidate == tw.candidate \n",
    "               AND cd.district == tw.district\n",
    "           WHERE cd.party in ('Republican','Democratic') \n",
    "               AND tw.tweet_text NOT LIKE '%RT%'\n",
    "        ''')\n",
    "\n",
    "results = list(results) # Just to store it, since the query is time consuming"
   ]
  },
  {
   "cell_type": "code",
   "execution_count": 18,
   "metadata": {},
   "outputs": [],
   "source": [
    "tweet_data = []\n",
    "\n",
    "# Now fill up tweet_data with sublists like we did on the convention speeches.\n",
    "# Note that this may take a bit of time, since we have a lot of tweets.\n",
    "\n",
    "for row in results :\n",
    "\n",
    "    # Like the first process, clean the text within the twitter feed. \n",
    "    tweet = row[2].decode('utf-8')\n",
    "    tweet_lc = text.lower()\n",
    "    tweet_tok = tokenize(text_lc)\n",
    "    tweet_punct = remove_punctuation(tweet_tok)\n",
    "    tweet_stop = remove_stop(tweet_punct)\n",
    "    tweet_clean = \" \".join(tweet_stop)\n",
    "    tweet_nourl = re.sub(r'http\\S+', '', tweet_clean).strip()\n",
    "    \n",
    "    # Create list of cleaned data to store to original data file\n",
    "    tparty = row[1]\n",
    "    tlist = [tweet_nourl, tparty]\n",
    "    \n",
    "    tweet_data.append(tlist)"
   ]
  },
  {
   "cell_type": "markdown",
   "metadata": {},
   "source": [
    "There are a lot of tweets here. Let's take a random sample and see how our classifer does. I'm guessing it won't be too great given the performance on the convention speeches..."
   ]
  },
  {
   "cell_type": "code",
   "execution_count": 19,
   "metadata": {},
   "outputs": [],
   "source": [
    "random.seed(20201014)\n",
    "\n",
    "tweet_data_sample = random.choices(tweet_data,k=10)"
   ]
  },
  {
   "cell_type": "code",
   "execution_count": 20,
   "metadata": {},
   "outputs": [
    {
     "name": "stdout",
     "output_type": "stream",
     "text": [
      "Here's our (cleaned) tweet: concludes convention program evening stand recess tomorrow evening related transcripts iowa gov kim reynolds press conference transcript september 16 • 1 hour ago press secretary kayleigh mcenany white house press conference transcript september 16 • 1 hour ago doj press conference transcript september 16 charges 5 chinese nationals • 2 hours ago stay updated get weekly digest week’s important transcripts inbox it’s news without news please enable javascript browser complete form email  kind transcripts want read submit transcription overview works faq mobile app captions overview works faq caption converter subtitles translation overview certified translation business translation faq request quote company press careers freelancers blog api get touch 222 kearny st 8th floor san francisco ca 94108 contact us 8883690701 supportrevcom © revcom reviews  terms  privacy stay updated get weekly digest week’s important transcripts inbox it’s news without news please enable javascript browser complete form email  kind transcripts want read submit stay updated get weekly digest week’s important transcripts inbox it’s news without news please enable javascript browser complete form email  kind transcripts want read submit stay updated get weekly digest week’s important transcripts inbox it’s news without news please enable javascript browser complete form email  kind transcripts want read submit\n",
      "Actual party is Democratic and our classifer says Republican.\n",
      "\n",
      "Here's our (cleaned) tweet: concludes convention program evening stand recess tomorrow evening related transcripts iowa gov kim reynolds press conference transcript september 16 • 1 hour ago press secretary kayleigh mcenany white house press conference transcript september 16 • 1 hour ago doj press conference transcript september 16 charges 5 chinese nationals • 2 hours ago stay updated get weekly digest week’s important transcripts inbox it’s news without news please enable javascript browser complete form email  kind transcripts want read submit transcription overview works faq mobile app captions overview works faq caption converter subtitles translation overview certified translation business translation faq request quote company press careers freelancers blog api get touch 222 kearny st 8th floor san francisco ca 94108 contact us 8883690701 supportrevcom © revcom reviews  terms  privacy stay updated get weekly digest week’s important transcripts inbox it’s news without news please enable javascript browser complete form email  kind transcripts want read submit stay updated get weekly digest week’s important transcripts inbox it’s news without news please enable javascript browser complete form email  kind transcripts want read submit stay updated get weekly digest week’s important transcripts inbox it’s news without news please enable javascript browser complete form email  kind transcripts want read submit\n",
      "Actual party is Democratic and our classifer says Republican.\n",
      "\n",
      "Here's our (cleaned) tweet: concludes convention program evening stand recess tomorrow evening related transcripts iowa gov kim reynolds press conference transcript september 16 • 1 hour ago press secretary kayleigh mcenany white house press conference transcript september 16 • 1 hour ago doj press conference transcript september 16 charges 5 chinese nationals • 2 hours ago stay updated get weekly digest week’s important transcripts inbox it’s news without news please enable javascript browser complete form email  kind transcripts want read submit transcription overview works faq mobile app captions overview works faq caption converter subtitles translation overview certified translation business translation faq request quote company press careers freelancers blog api get touch 222 kearny st 8th floor san francisco ca 94108 contact us 8883690701 supportrevcom © revcom reviews  terms  privacy stay updated get weekly digest week’s important transcripts inbox it’s news without news please enable javascript browser complete form email  kind transcripts want read submit stay updated get weekly digest week’s important transcripts inbox it’s news without news please enable javascript browser complete form email  kind transcripts want read submit stay updated get weekly digest week’s important transcripts inbox it’s news without news please enable javascript browser complete form email  kind transcripts want read submit\n",
      "Actual party is Democratic and our classifer says Republican.\n",
      "\n",
      "Here's our (cleaned) tweet: concludes convention program evening stand recess tomorrow evening related transcripts iowa gov kim reynolds press conference transcript september 16 • 1 hour ago press secretary kayleigh mcenany white house press conference transcript september 16 • 1 hour ago doj press conference transcript september 16 charges 5 chinese nationals • 2 hours ago stay updated get weekly digest week’s important transcripts inbox it’s news without news please enable javascript browser complete form email  kind transcripts want read submit transcription overview works faq mobile app captions overview works faq caption converter subtitles translation overview certified translation business translation faq request quote company press careers freelancers blog api get touch 222 kearny st 8th floor san francisco ca 94108 contact us 8883690701 supportrevcom © revcom reviews  terms  privacy stay updated get weekly digest week’s important transcripts inbox it’s news without news please enable javascript browser complete form email  kind transcripts want read submit stay updated get weekly digest week’s important transcripts inbox it’s news without news please enable javascript browser complete form email  kind transcripts want read submit stay updated get weekly digest week’s important transcripts inbox it’s news without news please enable javascript browser complete form email  kind transcripts want read submit\n",
      "Actual party is Republican and our classifer says Republican.\n",
      "\n",
      "Here's our (cleaned) tweet: concludes convention program evening stand recess tomorrow evening related transcripts iowa gov kim reynolds press conference transcript september 16 • 1 hour ago press secretary kayleigh mcenany white house press conference transcript september 16 • 1 hour ago doj press conference transcript september 16 charges 5 chinese nationals • 2 hours ago stay updated get weekly digest week’s important transcripts inbox it’s news without news please enable javascript browser complete form email  kind transcripts want read submit transcription overview works faq mobile app captions overview works faq caption converter subtitles translation overview certified translation business translation faq request quote company press careers freelancers blog api get touch 222 kearny st 8th floor san francisco ca 94108 contact us 8883690701 supportrevcom © revcom reviews  terms  privacy stay updated get weekly digest week’s important transcripts inbox it’s news without news please enable javascript browser complete form email  kind transcripts want read submit stay updated get weekly digest week’s important transcripts inbox it’s news without news please enable javascript browser complete form email  kind transcripts want read submit stay updated get weekly digest week’s important transcripts inbox it’s news without news please enable javascript browser complete form email  kind transcripts want read submit\n",
      "Actual party is Republican and our classifer says Republican.\n",
      "\n",
      "Here's our (cleaned) tweet: concludes convention program evening stand recess tomorrow evening related transcripts iowa gov kim reynolds press conference transcript september 16 • 1 hour ago press secretary kayleigh mcenany white house press conference transcript september 16 • 1 hour ago doj press conference transcript september 16 charges 5 chinese nationals • 2 hours ago stay updated get weekly digest week’s important transcripts inbox it’s news without news please enable javascript browser complete form email  kind transcripts want read submit transcription overview works faq mobile app captions overview works faq caption converter subtitles translation overview certified translation business translation faq request quote company press careers freelancers blog api get touch 222 kearny st 8th floor san francisco ca 94108 contact us 8883690701 supportrevcom © revcom reviews  terms  privacy stay updated get weekly digest week’s important transcripts inbox it’s news without news please enable javascript browser complete form email  kind transcripts want read submit stay updated get weekly digest week’s important transcripts inbox it’s news without news please enable javascript browser complete form email  kind transcripts want read submit stay updated get weekly digest week’s important transcripts inbox it’s news without news please enable javascript browser complete form email  kind transcripts want read submit\n",
      "Actual party is Democratic and our classifer says Republican.\n",
      "\n",
      "Here's our (cleaned) tweet: concludes convention program evening stand recess tomorrow evening related transcripts iowa gov kim reynolds press conference transcript september 16 • 1 hour ago press secretary kayleigh mcenany white house press conference transcript september 16 • 1 hour ago doj press conference transcript september 16 charges 5 chinese nationals • 2 hours ago stay updated get weekly digest week’s important transcripts inbox it’s news without news please enable javascript browser complete form email  kind transcripts want read submit transcription overview works faq mobile app captions overview works faq caption converter subtitles translation overview certified translation business translation faq request quote company press careers freelancers blog api get touch 222 kearny st 8th floor san francisco ca 94108 contact us 8883690701 supportrevcom © revcom reviews  terms  privacy stay updated get weekly digest week’s important transcripts inbox it’s news without news please enable javascript browser complete form email  kind transcripts want read submit stay updated get weekly digest week’s important transcripts inbox it’s news without news please enable javascript browser complete form email  kind transcripts want read submit stay updated get weekly digest week’s important transcripts inbox it’s news without news please enable javascript browser complete form email  kind transcripts want read submit\n",
      "Actual party is Democratic and our classifer says Republican.\n",
      "\n",
      "Here's our (cleaned) tweet: concludes convention program evening stand recess tomorrow evening related transcripts iowa gov kim reynolds press conference transcript september 16 • 1 hour ago press secretary kayleigh mcenany white house press conference transcript september 16 • 1 hour ago doj press conference transcript september 16 charges 5 chinese nationals • 2 hours ago stay updated get weekly digest week’s important transcripts inbox it’s news without news please enable javascript browser complete form email  kind transcripts want read submit transcription overview works faq mobile app captions overview works faq caption converter subtitles translation overview certified translation business translation faq request quote company press careers freelancers blog api get touch 222 kearny st 8th floor san francisco ca 94108 contact us 8883690701 supportrevcom © revcom reviews  terms  privacy stay updated get weekly digest week’s important transcripts inbox it’s news without news please enable javascript browser complete form email  kind transcripts want read submit stay updated get weekly digest week’s important transcripts inbox it’s news without news please enable javascript browser complete form email  kind transcripts want read submit stay updated get weekly digest week’s important transcripts inbox it’s news without news please enable javascript browser complete form email  kind transcripts want read submit\n",
      "Actual party is Democratic and our classifer says Republican.\n",
      "\n",
      "Here's our (cleaned) tweet: concludes convention program evening stand recess tomorrow evening related transcripts iowa gov kim reynolds press conference transcript september 16 • 1 hour ago press secretary kayleigh mcenany white house press conference transcript september 16 • 1 hour ago doj press conference transcript september 16 charges 5 chinese nationals • 2 hours ago stay updated get weekly digest week’s important transcripts inbox it’s news without news please enable javascript browser complete form email  kind transcripts want read submit transcription overview works faq mobile app captions overview works faq caption converter subtitles translation overview certified translation business translation faq request quote company press careers freelancers blog api get touch 222 kearny st 8th floor san francisco ca 94108 contact us 8883690701 supportrevcom © revcom reviews  terms  privacy stay updated get weekly digest week’s important transcripts inbox it’s news without news please enable javascript browser complete form email  kind transcripts want read submit stay updated get weekly digest week’s important transcripts inbox it’s news without news please enable javascript browser complete form email  kind transcripts want read submit stay updated get weekly digest week’s important transcripts inbox it’s news without news please enable javascript browser complete form email  kind transcripts want read submit\n",
      "Actual party is Democratic and our classifer says Republican.\n",
      "\n",
      "Here's our (cleaned) tweet: concludes convention program evening stand recess tomorrow evening related transcripts iowa gov kim reynolds press conference transcript september 16 • 1 hour ago press secretary kayleigh mcenany white house press conference transcript september 16 • 1 hour ago doj press conference transcript september 16 charges 5 chinese nationals • 2 hours ago stay updated get weekly digest week’s important transcripts inbox it’s news without news please enable javascript browser complete form email  kind transcripts want read submit transcription overview works faq mobile app captions overview works faq caption converter subtitles translation overview certified translation business translation faq request quote company press careers freelancers blog api get touch 222 kearny st 8th floor san francisco ca 94108 contact us 8883690701 supportrevcom © revcom reviews  terms  privacy stay updated get weekly digest week’s important transcripts inbox it’s news without news please enable javascript browser complete form email  kind transcripts want read submit stay updated get weekly digest week’s important transcripts inbox it’s news without news please enable javascript browser complete form email  kind transcripts want read submit stay updated get weekly digest week’s important transcripts inbox it’s news without news please enable javascript browser complete form email  kind transcripts want read submit\n",
      "Actual party is Democratic and our classifer says Republican.\n",
      "\n"
     ]
    }
   ],
   "source": [
    "for tweet, party in tweet_data_sample :\n",
    "    features = conv_features(text=tweet)\n",
    "    estimated_party = classifier.classify(featureset=features)\n",
    "    # Fill in the right-hand side above with code that estimates the actual party\n",
    "    \n",
    "    print(f\"Here's our (cleaned) tweet: {tweet}\")\n",
    "    print(f\"Actual party is {party} and our classifer says {estimated_party}.\")\n",
    "    print(\"\")"
   ]
  },
  {
   "cell_type": "markdown",
   "metadata": {},
   "source": [
    "Now that we've looked at it some, let's score a bunch and see how we're doing."
   ]
  },
  {
   "cell_type": "code",
   "execution_count": 21,
   "metadata": {},
   "outputs": [],
   "source": [
    "# dictionary of counts by actual party and estimated party. \n",
    "# first key is actual, second is estimated\n",
    "parties = ['Republican','Democratic']\n",
    "results = defaultdict(lambda: defaultdict(int))\n",
    "\n",
    "for p in parties :\n",
    "    for p1 in parties :\n",
    "        results[p][p1] = 0\n",
    "\n",
    "num_to_score = 10000\n",
    "random.shuffle(tweet_data)\n",
    "\n",
    "for idx, tp in enumerate(tweet_data) :\n",
    "    tweet, party = tp    \n",
    "    # Now do the same thing as above, but we store the results rather\n",
    "    # than printing them. \n",
    "    features = conv_features(text=tweet)\n",
    "    \n",
    "    # get the estimated party\n",
    "    estimated_party = classifier.classify(featureset=features)\n",
    "\n",
    "    results[party][estimated_party] += 1\n",
    "    \n",
    "    if idx > num_to_score : \n",
    "        break"
   ]
  },
  {
   "cell_type": "code",
   "execution_count": 22,
   "metadata": {},
   "outputs": [
    {
     "data": {
      "text/plain": [
       "defaultdict(<function __main__.<lambda>()>,\n",
       "            {'Republican': defaultdict(int,\n",
       "                         {'Republican': 4278, 'Democratic': 0}),\n",
       "             'Democratic': defaultdict(int,\n",
       "                         {'Republican': 5724, 'Democratic': 0})})"
      ]
     },
     "execution_count": 22,
     "metadata": {},
     "output_type": "execute_result"
    }
   ],
   "source": [
    "results"
   ]
  },
  {
   "cell_type": "markdown",
   "metadata": {},
   "source": [
    "### Reflections\n",
    "\n",
    "Response: __The results here appear identical from the first section that generated the most informative features, with the Republican Party being more favored than the Democratic Party. Therefore, this validates a huge presence of potential bias or imbalance within the given data that needs to be addressed.__"
   ]
  },
  {
   "cell_type": "code",
   "execution_count": null,
   "metadata": {},
   "outputs": [],
   "source": []
  }
 ],
 "metadata": {
  "kernelspec": {
   "display_name": "Python 3",
   "language": "python",
   "name": "python3"
  },
  "language_info": {
   "codemirror_mode": {
    "name": "ipython",
    "version": 3
   },
   "file_extension": ".py",
   "mimetype": "text/x-python",
   "name": "python",
   "nbconvert_exporter": "python",
   "pygments_lexer": "ipython3",
   "version": "3.8.8"
  }
 },
 "nbformat": 4,
 "nbformat_minor": 4
}
